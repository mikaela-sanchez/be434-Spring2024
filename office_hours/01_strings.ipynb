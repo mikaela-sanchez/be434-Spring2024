{
 "cells": [
  {
   "cell_type": "markdown",
   "id": "02d18456",
   "metadata": {},
   "source": [
    "## Strings"
   ]
  },
  {
   "cell_type": "markdown",
   "id": "bfc860a0",
   "metadata": {},
   "source": [
    "### Slicing: Getting just part of a string"
   ]
  },
  {
   "cell_type": "code",
   "execution_count": null,
   "id": "57ef2401",
   "metadata": {},
   "outputs": [],
   "source": [
    "word = 'narwhal'"
   ]
  },
  {
   "cell_type": "code",
   "execution_count": null,
   "id": "d584264f",
   "metadata": {},
   "outputs": [],
   "source": [
    "# get the first letter\n",
    "word[0]"
   ]
  },
  {
   "cell_type": "code",
   "execution_count": null,
   "id": "8065f841",
   "metadata": {},
   "outputs": [],
   "source": [
    "# get the 7th letter, counting from zero\n",
    "word[6]"
   ]
  },
  {
   "cell_type": "code",
   "execution_count": null,
   "id": "2d43f1e9",
   "metadata": {},
   "outputs": [],
   "source": [
    "# get the last letter\n",
    "word[-1]"
   ]
  },
  {
   "cell_type": "code",
   "execution_count": null,
   "id": "e895deee",
   "metadata": {},
   "outputs": [],
   "source": [
    "# get the first three letters\n",
    "word[:3]"
   ]
  },
  {
   "cell_type": "code",
   "execution_count": null,
   "id": "ee6813d6",
   "metadata": {},
   "outputs": [],
   "source": [
    "# get the type\n",
    "type(word)"
   ]
  },
  {
   "cell_type": "code",
   "execution_count": null,
   "id": "387a2e6e",
   "metadata": {},
   "outputs": [],
   "source": [
    "# strings can also be phrases\n",
    "hello_str = 'My name is Bonnie'"
   ]
  },
  {
   "cell_type": "code",
   "execution_count": null,
   "id": "c98f9890",
   "metadata": {},
   "outputs": [],
   "source": [
    "hello_str[:3]"
   ]
  },
  {
   "cell_type": "code",
   "execution_count": null,
   "id": "2e137784",
   "metadata": {},
   "outputs": [],
   "source": [
    "# same type!\n",
    "type(hello_str)"
   ]
  },
  {
   "cell_type": "code",
   "execution_count": null,
   "id": "1ebc90d0",
   "metadata": {},
   "outputs": [],
   "source": [
    "# get the first character in the string\n",
    "hello_str[0]"
   ]
  },
  {
   "cell_type": "code",
   "execution_count": null,
   "id": "927b4d55",
   "metadata": {},
   "outputs": [],
   "source": [
    "# get the second letter in the string\n",
    "hello_str[1]"
   ]
  },
  {
   "cell_type": "code",
   "execution_count": null,
   "id": "37f585af",
   "metadata": {},
   "outputs": [],
   "source": [
    "# get the letters from 0 to 7\n",
    "hello_str[0:7]"
   ]
  },
  {
   "cell_type": "code",
   "execution_count": null,
   "id": "147d51d5",
   "metadata": {},
   "outputs": [],
   "source": [
    "# same as aboe, different format\n",
    "hello_str[:7]"
   ]
  },
  {
   "cell_type": "code",
   "execution_count": null,
   "id": "8642d491",
   "metadata": {},
   "outputs": [],
   "source": [
    "# get the name that starts after \"My name is \", counts spaces too!\n",
    "hello_str[11:]"
   ]
  },
  {
   "cell_type": "code",
   "execution_count": null,
   "id": "ae5189fe",
   "metadata": {},
   "outputs": [],
   "source": [
    "# You can put the name into a variable\n",
    "name = hello_str[11:]"
   ]
  },
  {
   "cell_type": "code",
   "execution_count": null,
   "id": "e9d105a3",
   "metadata": {},
   "outputs": [],
   "source": [
    "print(name)"
   ]
  },
  {
   "cell_type": "markdown",
   "id": "dbf67122",
   "metadata": {},
   "source": [
    "### String Methods"
   ]
  },
  {
   "cell_type": "code",
   "execution_count": null,
   "id": "6644ab0b",
   "metadata": {},
   "outputs": [],
   "source": [
    "# get the length of name\n",
    "len(name)"
   ]
  },
  {
   "cell_type": "code",
   "execution_count": null,
   "id": "7deebdf2",
   "metadata": {},
   "outputs": [],
   "source": [
    "new_str = 1234"
   ]
  },
  {
   "cell_type": "code",
   "execution_count": null,
   "id": "c9bef88c",
   "metadata": {},
   "outputs": [],
   "source": [
    "type(new_str)"
   ]
  },
  {
   "cell_type": "code",
   "execution_count": null,
   "id": "75b57667",
   "metadata": {},
   "outputs": [],
   "source": [
    "# print name all uppercase\n",
    "name.upper()"
   ]
  },
  {
   "cell_type": "code",
   "execution_count": null,
   "id": "d59e8378",
   "metadata": {},
   "outputs": [],
   "source": [
    "# does the actual string change to upper?\n",
    "name"
   ]
  },
  {
   "cell_type": "code",
   "execution_count": null,
   "id": "313a6704",
   "metadata": {},
   "outputs": [],
   "source": [
    "# No! it doesn't\n",
    "name.isupper()"
   ]
  },
  {
   "cell_type": "code",
   "execution_count": null,
   "id": "9638030b",
   "metadata": {},
   "outputs": [],
   "source": [
    "# You will need to reassign the output to name\n",
    "name = name.upper()"
   ]
  },
  {
   "cell_type": "code",
   "execution_count": null,
   "id": "8d3ca5dc",
   "metadata": {},
   "outputs": [],
   "source": [
    "# Now name is stored as uppercase\n",
    "name.isupper()"
   ]
  },
  {
   "cell_type": "markdown",
   "id": "2f62d3a0",
   "metadata": {},
   "source": [
    "### Formatting"
   ]
  },
  {
   "cell_type": "code",
   "execution_count": null,
   "id": "46e3eee4",
   "metadata": {},
   "outputs": [],
   "source": [
    "# be careful of numbers in printing, they are not strings\n",
    "# you can print them if you convert to a string\n",
    "'My number is: '+str(5)"
   ]
  },
  {
   "cell_type": "code",
   "execution_count": null,
   "id": "50b4d13a",
   "metadata": {},
   "outputs": [],
   "source": [
    "# You can also print them if you use an \"f-string\"\n",
    "f'My number is: {5}'"
   ]
  },
  {
   "cell_type": "code",
   "execution_count": null,
   "id": "bd3f66d7",
   "metadata": {},
   "outputs": [],
   "source": [
    "# or even calculate a new value\n",
    "f'My number is: {5} and twice that is {2*5}'"
   ]
  },
  {
   "cell_type": "code",
   "execution_count": null,
   "id": "4468c644",
   "metadata": {},
   "outputs": [],
   "source": [
    "# Let's try this with other string values\n",
    "article = 'a'\n",
    "word = 'narwhal'\n",
    "f'Ahoy, Captain, {article} {word} off the larboard bow!'"
   ]
  },
  {
   "cell_type": "markdown",
   "id": "d0e3cb31",
   "metadata": {},
   "source": [
    "### Conditional Branching"
   ]
  },
  {
   "cell_type": "code",
   "execution_count": null,
   "id": "d70bf788",
   "metadata": {},
   "outputs": [],
   "source": [
    "# what happens if we have octopus? The article should be 'an' octopus, not 'a' octopus\n",
    "# let's get python to figure that out for us\n",
    "\n",
    "word = 'Bonnie'\n",
    "article = ''\n",
    "if word[0].lower() in 'aeiou':\n",
    "    article = 'an'\n",
    "else:\n",
    "    article = 'a'\n",
    "\n",
    "f'Ahoy, Captain, {article} {word} off the larboard bow!'\n"
   ]
  },
  {
   "cell_type": "markdown",
   "id": "9f153341",
   "metadata": {},
   "source": [
    "### Multi-line Strings"
   ]
  },
  {
   "cell_type": "code",
   "execution_count": null,
   "id": "92cb7feb",
   "metadata": {},
   "outputs": [],
   "source": [
    "myString = '''\n",
    "I can create a big block of text\n",
    "And I can add new lines\n",
    "the text keeps going until it reaches this \\'\\'\\'\n",
    "\n",
    "'''"
   ]
  },
  {
   "cell_type": "code",
   "execution_count": null,
   "id": "496129f8",
   "metadata": {},
   "outputs": [],
   "source": [
    "myString"
   ]
  },
  {
   "cell_type": "code",
   "execution_count": null,
   "id": "a9b4ddec",
   "metadata": {},
   "outputs": [],
   "source": [
    "print(myString)"
   ]
  },
  {
   "cell_type": "code",
   "execution_count": null,
   "id": "5fb8f96a",
   "metadata": {},
   "outputs": [],
   "source": []
  }
 ],
 "metadata": {
  "kernelspec": {
   "display_name": "Python 3 (ipykernel)",
   "language": "python",
   "name": "python3"
  },
  "language_info": {
   "codemirror_mode": {
    "name": "ipython",
    "version": 3
   },
   "file_extension": ".py",
   "mimetype": "text/x-python",
   "name": "python",
   "nbconvert_exporter": "python",
   "pygments_lexer": "ipython3",
   "version": "3.9.6"
  }
 },
 "nbformat": 4,
 "nbformat_minor": 5
}
