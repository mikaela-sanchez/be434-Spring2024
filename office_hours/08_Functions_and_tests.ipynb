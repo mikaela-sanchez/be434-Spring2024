{
 "cells": [
  {
   "cell_type": "markdown",
   "id": "ba586f0c",
   "metadata": {},
   "source": [
    "## Functions"
   ]
  },
  {
   "cell_type": "code",
   "execution_count": 109,
   "id": "ad0049c8",
   "metadata": {},
   "outputs": [
    {
     "data": {
      "text/plain": [
       "8"
      ]
     },
     "execution_count": 109,
     "metadata": {},
     "output_type": "execute_result"
    }
   ],
   "source": [
    "# Functions that return a result\n",
    "\n",
    "def multiplyByTwo(val):\n",
    "    return 2 * val\n",
    "\n",
    "multiplyByTwo(4)"
   ]
  },
  {
   "cell_type": "code",
   "execution_count": 110,
   "id": "2cec9e99",
   "metadata": {},
   "outputs": [
    {
     "name": "stdout",
     "output_type": "stream",
     "text": [
      "[1, 2, 4]\n"
     ]
    }
   ],
   "source": [
    "# Functions that modify something, but no result is required.\n",
    "\n",
    "a = [1,2]\n",
    "\n",
    "def appendFour(myList):\n",
    "    myList.append(4)\n",
    "    \n",
    "appendFour(a)\n",
    "print(a)"
   ]
  },
  {
   "cell_type": "markdown",
   "id": "9db21143",
   "metadata": {},
   "source": [
    "### Homework Hints"
   ]
  },
  {
   "cell_type": "markdown",
   "id": "7e553552",
   "metadata": {},
   "source": [
    "In this homework (08_kmers), you will need to learn to write your own function, and also create a test for that function.\n",
    "\n",
    "For example, if the create_kmers function got this sequence \"ATGGG\", and k=3\n",
    "It would produce these kmers, stepping one base pair position at a time.\n",
    "\n",
    "ATG\n",
    "TGG\n",
    "GGG"
   ]
  },
  {
   "cell_type": "code",
   "execution_count": 111,
   "id": "f256e944",
   "metadata": {},
   "outputs": [],
   "source": [
    "# Let's get a list of the start codon positions in a sequence\n",
    "\n",
    "# This module provides runtime support for type hints, \n",
    "# And is useful for making sure the user passes in, and receives\n",
    "# The appropriate type (dictionary, list, string etc) of result.\n",
    "from typing import Dict, List, NamedTuple, TextIO\n",
    "\n",
    "# --------------------------------------------------\n",
    "def get_start_codon_positions(seq: str) -> List[int]:\n",
    "    \"\"\" Find start codon positions in a sequence \"\"\"\n",
    "\n",
    "    start_codon = \"ATG\"\n",
    "    k = 3 # codon size\n",
    "    n = len(seq) - k + 1\n",
    "    start_codon_positions = []\n",
    "    seq = seq.upper()\n",
    "   \n",
    "    for i in range(n):\n",
    "        codon = seq[i:i + k]\n",
    "        if codon == start_codon:\n",
    "            start_codon_positions.append(i)\n",
    "    return start_codon_positions\n"
   ]
  },
  {
   "cell_type": "code",
   "execution_count": 112,
   "id": "893e94ea",
   "metadata": {},
   "outputs": [
    {
     "data": {
      "text/plain": [
       "[]"
      ]
     },
     "execution_count": 112,
     "metadata": {},
     "output_type": "execute_result"
    }
   ],
   "source": [
    "# Test scenario 1, what if there are no start codons in the sequence, we should get an empty list?\n",
    "get_start_codon_positions('GGGGGGG')"
   ]
  },
  {
   "cell_type": "code",
   "execution_count": 113,
   "id": "ddf04a18",
   "metadata": {},
   "outputs": [
    {
     "data": {
      "text/plain": [
       "[0]"
      ]
     },
     "execution_count": 113,
     "metadata": {},
     "output_type": "execute_result"
    }
   ],
   "source": [
    "# Test scenario 2, what if there is one start position the the beginning of the sequence at position 0?\n",
    "get_start_codon_positions('ATGG')"
   ]
  },
  {
   "cell_type": "code",
   "execution_count": 114,
   "id": "2a069188",
   "metadata": {},
   "outputs": [
    {
     "data": {
      "text/plain": [
       "[5]"
      ]
     },
     "execution_count": 114,
     "metadata": {},
     "output_type": "execute_result"
    }
   ],
   "source": [
    "# Test scenario 3, what if there is a start codon at the very end of the sequence at position 5?\n",
    "get_start_codon_positions('GGGGGATG')"
   ]
  },
  {
   "cell_type": "code",
   "execution_count": 115,
   "id": "070ffd50",
   "metadata": {},
   "outputs": [
    {
     "data": {
      "text/plain": [
       "[0, 5, 8]"
      ]
     },
     "execution_count": 115,
     "metadata": {},
     "output_type": "execute_result"
    }
   ],
   "source": [
    "# Test scenario 4, what if there are multiple start codons in a sequence, at positions 0, 5, and 8\n",
    "get_start_codon_positions('ATGCCATGATG')"
   ]
  },
  {
   "cell_type": "code",
   "execution_count": 99,
   "id": "126ebc75",
   "metadata": {},
   "outputs": [
    {
     "data": {
      "text/plain": [
       "[0, 3, 6]"
      ]
     },
     "execution_count": 99,
     "metadata": {},
     "output_type": "execute_result"
    }
   ],
   "source": [
    "# What happens if the sequence is all lowercase?, We should get postions 0, 3, and 6 for this sequence.\n",
    "get_start_codon_positions('atgatgatg'), "
   ]
  },
  {
   "cell_type": "code",
   "execution_count": 116,
   "id": "0f89fc2d",
   "metadata": {},
   "outputs": [
    {
     "data": {
      "text/plain": [
       "[7]"
      ]
     },
     "execution_count": 116,
     "metadata": {},
     "output_type": "execute_result"
    }
   ],
   "source": [
    "# What happens if the sequence is part upper and lowercase?, We should get postion 7 for this sequence.\n",
    "get_start_codon_positions('atTGGtgatg')"
   ]
  },
  {
   "cell_type": "code",
   "execution_count": 117,
   "id": "9595e614",
   "metadata": {},
   "outputs": [],
   "source": [
    "# Create the test using the examples you create above\n",
    "\n",
    "# --------------------------------------------------\n",
    "def test_get_start_codon_positions() -> None:\n",
    "    \"\"\" Test create_codons \"\"\"\n",
    "\n",
    "    assert get_start_codon_positions('GGGGGGG') == []\n",
    "    assert get_start_codon_positions('ATGG') == [0]\n",
    "    assert get_start_codon_positions('GGGGGATG') == [5]\n",
    "    assert get_start_codon_positions('ATGCCATGATG') == [0, 5, 8]\n",
    "    assert get_start_codon_positions('atgatgatg') == [0, 3, 6]\n",
    "    assert get_start_codon_positions('atTGGtgatg') == [7]\n",
    "\n"
   ]
  },
  {
   "cell_type": "code",
   "execution_count": 118,
   "id": "ebab3e5b",
   "metadata": {},
   "outputs": [],
   "source": [
    "# If you created the test correctly, then nothing should be output when you run the test\n",
    "\n",
    "test_get_start_codon_positions()"
   ]
  },
  {
   "cell_type": "markdown",
   "id": "ce99cd65",
   "metadata": {},
   "source": [
    "### Now let's run this test on this as a script"
   ]
  },
  {
   "cell_type": "code",
   "execution_count": 136,
   "id": "7bc1ce4e",
   "metadata": {},
   "outputs": [],
   "source": [
    "my_code = '''#!/usr/bin/env python3\n",
    "\n",
    "from typing import Dict, List, NamedTuple, TextIO\n",
    "\n",
    "def main():\n",
    "    \"\"\"Find start codon\"\"\"\n",
    "\n",
    "    kmer_positions1 = get_start_codon_positions('ATGGGGG')\n",
    "    kmer_positions2 = get_start_codon_positions('ATGGGGGGG')\n",
    "\n",
    "    for common in set(kmer_positions1).intersection(set(kmer_positions2)):\n",
    "        print(\"common:\", common)\n",
    "\n",
    "\n",
    "\n",
    "# --------------------------------------------------\n",
    "def get_start_codon_positions(seq: str) -> List[int]:\n",
    "    \"\"\" Find start codon positions in a sequence \"\"\"\n",
    "\n",
    "    start_codon = \"ATG\"\n",
    "    k = 3 # codon size\n",
    "    n = len(seq) - k + 1\n",
    "    start_codon_positions = []\n",
    "    seq = seq.upper()\n",
    "   \n",
    "    for i in range(n):\n",
    "        codon = seq[i:i + k]\n",
    "        if codon == start_codon:\n",
    "            start_codon_positions.append(i)\n",
    "    return start_codon_positions\n",
    "\n",
    "# --------------------------------------------------\n",
    "def test_get_start_codon_positions() -> None:\n",
    "    \"\"\" Test create_codons \"\"\"\n",
    "\n",
    "    assert get_start_codon_positions('GGGGGGG') == []\n",
    "    assert get_start_codon_positions('ATGG') == [0]\n",
    "    assert get_start_codon_positions('GGGGGATG') == [5]\n",
    "    assert get_start_codon_positions('ATGCCATGATG') == [0, 5, 8]\n",
    "    assert get_start_codon_positions('atgatgatg') == [0, 3, 6]\n",
    "    assert get_start_codon_positions('atTGGtgatg') == [7]\n",
    "\n",
    "# --------------------------------------------------\n",
    "if __name__ == '__main__':\n",
    "    main()\n",
    "\n",
    "'''\n",
    "\n",
    "with open('get_common_start_codon_positions.sh', mode='w') as file:\n",
    "    file.write(my_code)"
   ]
  },
  {
   "cell_type": "code",
   "execution_count": 133,
   "id": "eaab7497",
   "metadata": {},
   "outputs": [
    {
     "name": "stdout",
     "output_type": "stream",
     "text": [
      "common: 0\n"
     ]
    }
   ],
   "source": [
    "!chmod 755 get_common_start_codon_positions.sh\n",
    "!./get_common_start_codon_positions.sh"
   ]
  },
  {
   "cell_type": "markdown",
   "id": "2616c377",
   "metadata": {},
   "source": [
    "So, why is creating tests useful? Tests are a great way to check and make sure the code still works when you make changes.\n",
    "\n",
    "Tests also give you the opportunity to check and make sure the code you have written in a function works for many use cases\n",
    "\n",
    "Remember that we want to re-use these functions again and again!"
   ]
  }
 ],
 "metadata": {
  "kernelspec": {
   "display_name": "Python 3 (ipykernel)",
   "language": "python",
   "name": "python3"
  },
  "language_info": {
   "codemirror_mode": {
    "name": "ipython",
    "version": 3
   },
   "file_extension": ".py",
   "mimetype": "text/x-python",
   "name": "python",
   "nbconvert_exporter": "python",
   "pygments_lexer": "ipython3",
   "version": "3.9.6"
  }
 },
 "nbformat": 4,
 "nbformat_minor": 5
}
