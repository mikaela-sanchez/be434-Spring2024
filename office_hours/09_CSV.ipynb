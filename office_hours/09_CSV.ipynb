{
 "cells": [
  {
   "cell_type": "code",
   "execution_count": 1,
   "id": "37c70411",
   "metadata": {},
   "outputs": [],
   "source": [
    "import csv"
   ]
  },
  {
   "cell_type": "markdown",
   "id": "dd6695e5",
   "metadata": {},
   "source": [
    "## CSV"
   ]
  },
  {
   "cell_type": "markdown",
   "id": "d9b19028",
   "metadata": {},
   "source": [
    "### Reading"
   ]
  },
  {
   "cell_type": "code",
   "execution_count": 2,
   "id": "e8faa469",
   "metadata": {},
   "outputs": [
    {
     "name": "stdout",
     "output_type": "stream",
     "text": [
      "['country', 'postal code', 'place name', 'state', 'state code', 'county', 'county code', 'latitude', 'longitude', 'accuracy']\n",
      "['US', '99553', 'Akutan', 'Alaska', 'AK', 'Aleutians East', '013', '54.143', '-165.7854', '1']\n",
      "['US', '99571', 'Cold Bay', 'Alaska', 'AK', 'Aleutians East', '013', '55.1858', '-162.7211', '1']\n",
      "['US', '99583', 'False Pass', 'Alaska', 'AK', 'Aleutians East', '013', '54.8542', '-163.4113', '1']\n",
      "['US', '99612', 'King Cove', 'Alaska', 'AK', 'Aleutians East', '013', '55.0628', '-162.3056', '1']\n",
      "['US', '99661', 'Sand Point', 'Alaska', 'AK', 'Aleutians East', '013', '55.3192', '-160.4914', '1']\n",
      "['US', '99546', 'Adak', 'Alaska', 'AK', 'Aleutians West (CA)', '016', '51.874', '-176.634', '1']\n",
      "['US', '99547', 'Atka', 'Alaska', 'AK', 'Aleutians West (CA)', '016', '52.1961', '-174.2006', '1']\n",
      "['US', '99591', 'Saint George Island', 'Alaska', 'AK', 'Aleutians West (CA)', '016', '56.5944', '-169.6186', '1']\n",
      "['US', '99638', 'Nikolski', 'Alaska', 'AK', 'Aleutians West (CA)', '016', '52.9381', '-168.8678', '1']\n"
     ]
    }
   ],
   "source": [
    "# Read the first 10 lines of the csv file\n",
    "# Note that the file is tab delimited\n",
    "with open('us_zipcodes.csv', 'r') as f:\n",
    "    reader = csv.reader(f, delimiter='\\t')\n",
    "    count = 0\n",
    "    for row in reader:\n",
    "        print(row)\n",
    "        count +=1\n",
    "        if count == 10:\n",
    "            break"
   ]
  },
  {
   "cell_type": "code",
   "execution_count": 3,
   "id": "9c5eda9b",
   "metadata": {},
   "outputs": [
    {
     "name": "stdout",
     "output_type": "stream",
     "text": [
      "['US', '99553', 'Akutan', 'Alaska', 'AK', 'Aleutians East', '013', '54.143', '-165.7854', '1']\n",
      "['US', '99571', 'Cold Bay', 'Alaska', 'AK', 'Aleutians East', '013', '55.1858', '-162.7211', '1']\n",
      "['US', '99583', 'False Pass', 'Alaska', 'AK', 'Aleutians East', '013', '54.8542', '-163.4113', '1']\n",
      "['US', '99612', 'King Cove', 'Alaska', 'AK', 'Aleutians East', '013', '55.0628', '-162.3056', '1']\n",
      "['US', '99661', 'Sand Point', 'Alaska', 'AK', 'Aleutians East', '013', '55.3192', '-160.4914', '1']\n",
      "['US', '99546', 'Adak', 'Alaska', 'AK', 'Aleutians West (CA)', '016', '51.874', '-176.634', '1']\n",
      "['US', '99547', 'Atka', 'Alaska', 'AK', 'Aleutians West (CA)', '016', '52.1961', '-174.2006', '1']\n",
      "['US', '99591', 'Saint George Island', 'Alaska', 'AK', 'Aleutians West (CA)', '016', '56.5944', '-169.6186', '1']\n",
      "['US', '99638', 'Nikolski', 'Alaska', 'AK', 'Aleutians West (CA)', '016', '52.9381', '-168.8678', '1']\n",
      "['US', '99660', 'Saint Paul Island', 'Alaska', 'AK', 'Aleutians West (CA)', '016', '57.1842', '-170.2764', '1']\n"
     ]
    }
   ],
   "source": [
    "# Read the first 10 lines of the csv file\n",
    "# skip the header line in the dataset\n",
    "with open('us_zipcodes.csv', 'r') as f:\n",
    "    reader = csv.reader(f, delimiter='\\t')\n",
    "    next(reader)\n",
    "    # next(reader) keep repeating to skip an additional line.\n",
    "    count = 0\n",
    "    for row in reader:\n",
    "        print(row)\n",
    "        count +=1\n",
    "        if count == 10:\n",
    "            break"
   ]
  },
  {
   "cell_type": "code",
   "execution_count": 86,
   "id": "bd55ec0a",
   "metadata": {},
   "outputs": [
    {
     "name": "stdout",
     "output_type": "stream",
     "text": [
      "['US', '99553', 'Akutan', 'Alaska', 'AK', 'Aleutians East', '013', '54.143', '-165.7854', '1']\n",
      "['US', '99571', 'Cold Bay', 'Alaska', 'AK', 'Aleutians East', '013', '55.1858', '-162.7211', '1']\n",
      "['US', '99583', 'False Pass', 'Alaska', 'AK', 'Aleutians East', '013', '54.8542', '-163.4113', '1']\n",
      "['US', '99612', 'King Cove', 'Alaska', 'AK', 'Aleutians East', '013', '55.0628', '-162.3056', '1']\n",
      "['US', '99661', 'Sand Point', 'Alaska', 'AK', 'Aleutians East', '013', '55.3192', '-160.4914', '1']\n",
      "['US', '99546', 'Adak', 'Alaska', 'AK', 'Aleutians West (CA)', '016', '51.874', '-176.634', '1']\n",
      "['US', '99547', 'Atka', 'Alaska', 'AK', 'Aleutians West (CA)', '016', '52.1961', '-174.2006', '1']\n",
      "['US', '99591', 'Saint George Island', 'Alaska', 'AK', 'Aleutians West (CA)', '016', '56.5944', '-169.6186', '1']\n",
      "['US', '99638', 'Nikolski', 'Alaska', 'AK', 'Aleutians West (CA)', '016', '52.9381', '-168.8678', '1']\n",
      "['US', '99660', 'Saint Paul Island', 'Alaska', 'AK', 'Aleutians West (CA)', '016', '57.1842', '-170.2764', '1']\n"
     ]
    }
   ],
   "source": [
    "# Read the first 10 lines of the csv file\n",
    "# Skip the header line by turning the reader into a list and starting from 1+\n",
    "with open('us_zipcodes.csv', 'r') as f:\n",
    "    reader = list(csv.reader(f, delimiter='\\t'))\n",
    "    count = 0\n",
    "    for row in reader[1:]:\n",
    "        print(row)\n",
    "        count +=1\n",
    "        if count == 10:\n",
    "            break"
   ]
  },
  {
   "cell_type": "code",
   "execution_count": 6,
   "id": "c9b656d7",
   "metadata": {},
   "outputs": [
    {
     "name": "stdout",
     "output_type": "stream",
     "text": [
      "{'country': 'US', 'postal code': '99553', 'place name': 'Akutan', 'state': 'Alaska', 'state code': 'AK', 'county': 'Aleutians East', 'county code': '013', 'latitude': '54.143', 'longitude': '-165.7854', 'accuracy': '1'}\n",
      "{'country': 'US', 'postal code': '99571', 'place name': 'Cold Bay', 'state': 'Alaska', 'state code': 'AK', 'county': 'Aleutians East', 'county code': '013', 'latitude': '55.1858', 'longitude': '-162.7211', 'accuracy': '1'}\n",
      "{'country': 'US', 'postal code': '99583', 'place name': 'False Pass', 'state': 'Alaska', 'state code': 'AK', 'county': 'Aleutians East', 'county code': '013', 'latitude': '54.8542', 'longitude': '-163.4113', 'accuracy': '1'}\n",
      "{'country': 'US', 'postal code': '99612', 'place name': 'King Cove', 'state': 'Alaska', 'state code': 'AK', 'county': 'Aleutians East', 'county code': '013', 'latitude': '55.0628', 'longitude': '-162.3056', 'accuracy': '1'}\n",
      "{'country': 'US', 'postal code': '99661', 'place name': 'Sand Point', 'state': 'Alaska', 'state code': 'AK', 'county': 'Aleutians East', 'county code': '013', 'latitude': '55.3192', 'longitude': '-160.4914', 'accuracy': '1'}\n",
      "{'country': 'US', 'postal code': '99546', 'place name': 'Adak', 'state': 'Alaska', 'state code': 'AK', 'county': 'Aleutians West (CA)', 'county code': '016', 'latitude': '51.874', 'longitude': '-176.634', 'accuracy': '1'}\n",
      "{'country': 'US', 'postal code': '99547', 'place name': 'Atka', 'state': 'Alaska', 'state code': 'AK', 'county': 'Aleutians West (CA)', 'county code': '016', 'latitude': '52.1961', 'longitude': '-174.2006', 'accuracy': '1'}\n",
      "{'country': 'US', 'postal code': '99591', 'place name': 'Saint George Island', 'state': 'Alaska', 'state code': 'AK', 'county': 'Aleutians West (CA)', 'county code': '016', 'latitude': '56.5944', 'longitude': '-169.6186', 'accuracy': '1'}\n",
      "{'country': 'US', 'postal code': '99638', 'place name': 'Nikolski', 'state': 'Alaska', 'state code': 'AK', 'county': 'Aleutians West (CA)', 'county code': '016', 'latitude': '52.9381', 'longitude': '-168.8678', 'accuracy': '1'}\n",
      "{'country': 'US', 'postal code': '99660', 'place name': 'Saint Paul Island', 'state': 'Alaska', 'state code': 'AK', 'county': 'Aleutians West (CA)', 'county code': '016', 'latitude': '57.1842', 'longitude': '-170.2764', 'accuracy': '1'}\n"
     ]
    }
   ],
   "source": [
    "# Create a dictionary per line instead\n",
    "with open('us_zipcodes.csv', 'r') as f:\n",
    "    reader = csv.DictReader(f, delimiter='\\t')\n",
    "    count = 0\n",
    "    for row in reader:\n",
    "        print(row)\n",
    "        count +=1\n",
    "        if count == 10:\n",
    "            break"
   ]
  },
  {
   "cell_type": "markdown",
   "id": "60d7e9f3",
   "metadata": {},
   "source": [
    "### Filtering data"
   ]
  },
  {
   "cell_type": "code",
   "execution_count": 88,
   "id": "9d591521",
   "metadata": {},
   "outputs": [],
   "source": [
    "with open('us_zipcodes.csv', 'r') as f:\n",
    "    data = list(csv.DictReader(f, delimiter='\\t'))"
   ]
  },
  {
   "cell_type": "code",
   "execution_count": 90,
   "id": "ab49f29a",
   "metadata": {},
   "outputs": [],
   "source": [
    "primes = []\n",
    "for number in range(2, 99999):\n",
    "    for factor in range(2, int(number**0.5) + 1):\n",
    "        if number % factor == 0:\n",
    "            break\n",
    "    else:\n",
    "        primes.append(number)"
   ]
  },
  {
   "cell_type": "code",
   "execution_count": 91,
   "id": "a38cb48a",
   "metadata": {},
   "outputs": [
    {
     "name": "stdout",
     "output_type": "stream",
     "text": [
      "{'country': 'US', 'postal code': '85607', 'place name': 'Douglas', 'state': 'Arizona', 'state code': 'AZ', 'county': 'Cochise', 'county code': '003', 'latitude': '31.3511', 'longitude': '-109.5447', 'accuracy': '4'}\n",
      "{'country': 'US', 'postal code': '85627', 'place name': 'Pomerene', 'state': 'Arizona', 'state code': 'AZ', 'county': 'Cochise', 'county code': '003', 'latitude': '31.9995', 'longitude': '-110.2862', 'accuracy': '4'}\n",
      "{'country': 'US', 'postal code': '85643', 'place name': 'Willcox', 'state': 'Arizona', 'state code': 'AZ', 'county': 'Cochise', 'county code': '003', 'latitude': '32.373', 'longitude': '-109.8631', 'accuracy': '4'}\n",
      "{'country': 'US', 'postal code': '85931', 'place name': 'Forest Lakes', 'state': 'Arizona', 'state code': 'AZ', 'county': 'Coconino', 'county code': '005', 'latitude': '34.4513', 'longitude': '-110.8644', 'accuracy': '4'}\n",
      "{'country': 'US', 'postal code': '86011', 'place name': 'Flagstaff', 'state': 'Arizona', 'state code': 'AZ', 'county': 'Coconino', 'county code': '005', 'latitude': '35.1981', 'longitude': '-111.6513', 'accuracy': '4'}\n",
      "{'country': 'US', 'postal code': '86017', 'place name': 'Munds Park', 'state': 'Arizona', 'state code': 'AZ', 'county': 'Coconino', 'county code': '005', 'latitude': '34.9412', 'longitude': '-111.641', 'accuracy': '4'}\n",
      "{'country': 'US', 'postal code': '86351', 'place name': 'Sedona', 'state': 'Arizona', 'state code': 'AZ', 'county': 'Coconino', 'county code': '005', 'latitude': '34.7784', 'longitude': '-111.7851', 'accuracy': '4'}\n",
      "{'country': 'US', 'postal code': '85531', 'place name': 'Central', 'state': 'Arizona', 'state code': 'AZ', 'county': 'Graham', 'county code': '009', 'latitude': '32.8692', 'longitude': '-109.7878', 'accuracy': '4'}\n",
      "{'country': 'US', 'postal code': '85009', 'place name': 'Phoenix', 'state': 'Arizona', 'state code': 'AZ', 'county': 'Maricopa', 'county code': '013', 'latitude': '33.4564', 'longitude': '-112.1284', 'accuracy': '4'}\n",
      "{'country': 'US', 'postal code': '85021', 'place name': 'Phoenix', 'state': 'Arizona', 'state code': 'AZ', 'county': 'Maricopa', 'county code': '013', 'latitude': '33.56', 'longitude': '-112.0927', 'accuracy': '4'}\n"
     ]
    }
   ],
   "source": [
    "data = [row for row in data if int(row['postal code']) in primes and row['state code'] == 'AZ']\n",
    "len(data)\n",
    "for i in (range(10)):\n",
    "    print(data[i])\n"
   ]
  },
  {
   "cell_type": "markdown",
   "id": "4ba7df82",
   "metadata": {},
   "source": [
    "### Writing"
   ]
  },
  {
   "cell_type": "code",
   "execution_count": 92,
   "id": "3e80a27b",
   "metadata": {},
   "outputs": [],
   "source": [
    "with open('az_prime_zipcodes.csv', 'w') as f:\n",
    "    writer = csv.writer(f)\n",
    "    # print a header\n",
    "    header = 'postal code' + ',' + 'place name' + ',' + 'county'\n",
    "    print(header, file=f)\n",
    "    for row in data:\n",
    "        writer.writerow([row['postal code'], row['place name'], row['county']])\n",
    "        \n",
    "        "
   ]
  },
  {
   "cell_type": "code",
   "execution_count": 94,
   "id": "8d030349",
   "metadata": {},
   "outputs": [
    {
     "name": "stdout",
     "output_type": "stream",
     "text": [
      "country\tpostal code\tplace name\tstate\tstate code\tcounty\tcounty code\tlatitude\tlongitude\taccuracy\n"
     ]
    }
   ],
   "source": [
    "!head -20 az_prime_places.csv"
   ]
  },
  {
   "cell_type": "markdown",
   "id": "99f4882e",
   "metadata": {},
   "source": [
    "### Homework help!"
   ]
  },
  {
   "cell_type": "markdown",
   "id": "88f69d95",
   "metadata": {},
   "source": [
    "csvfilter.py \n",
    "\n",
    "* `-f`|`--file`: A *required* argument that is a readable file\n",
    "* `-v`|`--val`: A *required* \"value\" to match against each record\n",
    "* `-c`|`--col`: An optional \"column\" to search for the given value\n",
    "* `-o`|`--outfile`: An optional output file name (default `'out.csv'`)\n",
    "* `-d`|`--delimiter`: An optional delimiter to use to parse the file (default `','`)"
   ]
  },
  {
   "cell_type": "code",
   "execution_count": 95,
   "id": "b656096b",
   "metadata": {},
   "outputs": [
    {
     "name": "stdout",
     "output_type": "stream",
     "text": [
      "85703,Tucson,Pima\n",
      "85711,Tucson,Pima\n",
      "85717,Tucson,Pima\n",
      "85733,Tucson,Pima\n",
      "85751,Tucson,Pima\n"
     ]
    }
   ],
   "source": [
    "!grep Tucson az_prime_zipcodes.csv"
   ]
  },
  {
   "cell_type": "code",
   "execution_count": 96,
   "id": "56295f3a",
   "metadata": {},
   "outputs": [
    {
     "name": "stdout",
     "output_type": "stream",
     "text": [
      "// ****** Record 1 ****** //\n",
      "postal code : 85703\n",
      "place name  : Tucson\n",
      "county      : Pima\n",
      "// ****** Record 2 ****** //\n",
      "postal code : 85711\n",
      "place name  : Tucson\n",
      "county      : Pima\n",
      "// ****** Record 3 ****** //\n",
      "postal code : 85717\n",
      "place name  : Tucson\n",
      "county      : Pima\n",
      "// ****** Record 4 ****** //\n",
      "postal code : 85733\n",
      "place name  : Tucson\n",
      "county      : Pima\n",
      "// ****** Record 5 ****** //\n",
      "postal code : 85751\n",
      "place name  : Tucson\n",
      "county      : Pima\n"
     ]
    }
   ],
   "source": [
    "!./csvchk.py -g Tucson --limit 10 az_prime_zipcodes.csv"
   ]
  },
  {
   "cell_type": "code",
   "execution_count": 97,
   "id": "11adf008",
   "metadata": {},
   "outputs": [],
   "source": [
    "import csv\n",
    "import re\n",
    "import sys\n",
    "\n",
    "infile = open('az_prime_zipcodes.csv', 'rt')\n",
    "outfile = open('tucson_az_prime_zipcodes.csv', 'wt')\n",
    "\n",
    "reader = csv.DictReader(infile, delimiter=',')\n",
    "search_column = 'place name'\n",
    "search_for = 'Tucson'\n",
    "\n",
    "# Check to see if the user is requesting a particular column\n",
    "if search_column and search_column not in reader.fieldnames:\n",
    "    print(f'Choose from {\", \".join(reader.fieldnames)}')\n",
    "    sys.exit(1)\n",
    "\n",
    "# Create a \"csv writer\"\n",
    "writer = csv.DictWriter(outfile, fieldnames=reader.fieldnames)\n",
    "writer.writeheader()\n",
    "\n",
    "for rec in reader:\n",
    "    text = rec.get(search_column) if search_column else ' '.join(rec.values())\n",
    "\n",
    "    if re.search(search_for, text, re.IGNORECASE):\n",
    "        writer.writerow(rec)"
   ]
  },
  {
   "cell_type": "code",
   "execution_count": 98,
   "id": "2bf6a3cd",
   "metadata": {},
   "outputs": [
    {
     "name": "stdout",
     "output_type": "stream",
     "text": [
      "postal code,place name,county\n",
      "85703,Tucson,Pima\n",
      "85711,Tucson,Pima\n",
      "85717,Tucson,Pima\n",
      "85733,Tucson,Pima\n",
      "85751,Tucson,Pima\n"
     ]
    }
   ],
   "source": [
    "!head tucson_az_prime_zipcodes.csv"
   ]
  }
 ],
 "metadata": {
  "kernelspec": {
   "display_name": "Python 3 (ipykernel)",
   "language": "python",
   "name": "python3"
  },
  "language_info": {
   "codemirror_mode": {
    "name": "ipython",
    "version": 3
   },
   "file_extension": ".py",
   "mimetype": "text/x-python",
   "name": "python",
   "nbconvert_exporter": "python",
   "pygments_lexer": "ipython3",
   "version": "3.9.6"
  }
 },
 "nbformat": 4,
 "nbformat_minor": 5
}
