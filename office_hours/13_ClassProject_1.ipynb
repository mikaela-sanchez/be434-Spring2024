{
 "cells": [
  {
   "cell_type": "markdown",
   "id": "b693252d",
   "metadata": {},
   "source": [
    "## Class Project\n",
    "\n",
    "For our class project, we are going to dive into the world of cryptography. We will work our way through coding several historical ciphers; from the easily breakable Caesar and Substitution Ciphers to the more complex Vigenere Cipher. In the end, you will be able to send your friends and family secret messages, that they can decode with your code.\n",
    "\n",
    "Note: you only need to complete 2/3 projects for full credit.\n",
    "\n",
    "### Week 16: Basic Ciphers\n",
    "\n",
    "\n",
    "We are going to start off with creating some basic cyphers. Each one of these Python programs can \"re-use\" a portion of the code from the previous program, moving from easy to harder ciphers. Be sure work through each of these in order.\n",
    "\n",
    "\n",
    "* 01_caesar: Caesar Shift\n",
    "* 02_substitution: Substitution Ciphers\n"
   ]
  },
  {
   "cell_type": "markdown",
   "id": "26082aa2",
   "metadata": {},
   "source": [
    "### 01_caesar: Caesar Shift\n",
    "\n",
    "We'll write a program to implement the Caesar Shift, one of the earliest known secret codes. To encode using a Caesar Shift, you shift each letter in your message to the right a certain number of spaces in the alphabet.\n",
    "\n",
    "Example:\n",
    "alpha = \"ABCDEFGHIJKLMNOPQRSTUVWXYZ\"\n",
    "number_to_shift = 3\n",
    "letter = \"H\"\n",
    "\n",
    "Shift 3 letters: `\"I\"`, `\"J\"`, `\"K\"`.  So `\"H\"` becomes `\"K\"`\n",
    "\n",
    "encoded_letter = \"K\"\n"
   ]
  },
  {
   "cell_type": "code",
   "execution_count": null,
   "id": "905f9978",
   "metadata": {},
   "outputs": [],
   "source": [
    "def caesar_shift(num_to_shift):\n",
    "\n",
    "    # create a lookup table for the char based on the shift\n",
    "    # be sure to capture the \"encoded\" and \"decoded\" value for each character\n",
    "    encode = {}\n",
    "    decode = {}\n",
    "\n",
    "    # store the alphabet in a list\n",
    "    alpha = \"ABCDEFGHIJKLMNOPQRSTUVWXYZ\"\n",
    "    alpha_list = list(alpha)\n",
    "\n",
    "    # create the encode and decode lookups\n",
    "    # walk through each character in the alphabet\n",
    "    x = 0\n",
    "    for char in alpha:\n",
    "        # determine the \"caesar shift\" value for each character\n",
    "        cshift = ###\n",
    "\n",
    "        # be sure to handle the use case where the cshift == 26 \n",
    "        if cshift == 26:\n",
    "            # reset to the beginning\n",
    "        \n",
    "        # get and store the encoded and decoded character values\n",
    "     \n",
    "        # be sure to increment as you walk through the alphabet\n",
    "        x += 1\n",
    "\n",
    "    return(encode, decode)"
   ]
  },
  {
   "cell_type": "code",
   "execution_count": null,
   "id": "61212c19",
   "metadata": {},
   "outputs": [],
   "source": [
    "# Now in main, you can go through each of the lines in the file\n",
    "# check if the user wants you to \"encode\" or \"decode\"\n",
    "# then use the encode and decode lookups to get the value for each character\n",
    "\n",
    "\"\"\"caesar shift\"\"\"\n",
    "encode, decode = caesar_shift(args.num_to_shift)\n",
    "\n",
    "for line in fh:\n",
    "    current_line = []\n",
    "    # walk through each of the characters\n",
    "    for char in list(line.rstrip()):\n",
    "        # be sure to uppercase\n",
    "        char = char.upper()\n",
    "        # check if you are \n",
    "        if args.decode:\n",
    "            # get the value from the decode lookup\n",
    "        else:\n",
    "           # get the value from the encode lookup\n"
   ]
  },
  {
   "cell_type": "markdown",
   "id": "c1b0a125",
   "metadata": {},
   "source": [
    "### 02_substitution: Substitution Ciphers\n",
    "\n",
    "The Caesar Shift wasn't a great secret code; for one thing, there are only a few different possibilities (only as many letters as you have in your alphabet).\n",
    "\n",
    "We can make a code that is much harder to break by scrambling the alphabet completely instead of just shifting to one side.\n",
    "\n",
    "Define a substitution cipher by scrambling the entire alphabet.  Say, for example, `\"WJKUXVBMIYDTPLHZGONCRSAEFQ\"`.\n",
    "\n",
    "Then, imagine writing it out underneath the normal alphabet, in the normal order, like so:\n",
    "\n",
    "```\n",
    "ABCDEFGHIJKLMNOPQRSTUVWXYZ\n",
    "WJKUXVBMIYDTPLHZGONCRSAEFQ\n",
    "```\n",
    "\n",
    "In this case, `\"HELLO\"` would be encoded as `\"MXTTH\"`"
   ]
  },
  {
   "cell_type": "code",
   "execution_count": null,
   "id": "f5947ac0",
   "metadata": {},
   "outputs": [],
   "source": [
    "import random\n",
    "\n",
    "def substitution_cipher(seed):\n",
    "    random.seed(seed)\n",
    "    encode = {}\n",
    "    decode = {}\n",
    "\n",
    "    # convert the alphabet into a list\n",
    "    alpha = \"ABCDEFGHIJKLMNOPQRSTUVWXYZ\"\n",
    "    alpha_list = list(alpha)\n",
    "    \n",
    "    # get a random list\n",
    "    # use random.shuffle? or random.sample? \n",
    "    random_list = #####\n",
    "\n",
    "    x = 0\n",
    "    for char in alpha_list:\n",
    "        # get the random character\n",
    "        # add the values to encode and decode\n",
    "        \n",
    "        x += 1\n",
    "\n",
    "    return(encode, decode)"
   ]
  },
  {
   "cell_type": "code",
   "execution_count": 20,
   "id": "fa277768",
   "metadata": {},
   "outputs": [
    {
     "name": "stdout",
     "output_type": "stream",
     "text": [
      "FZEGRQVPMCNXSDALIJTHYOWBKU\n",
      "ABCDEFGHIJKLMNOPQRSTUVWXYZ\n"
     ]
    }
   ],
   "source": [
    "# notice that shuffle changes the original list\n",
    "\n",
    "import random\n",
    "\n",
    "alpha = \"ABCDEFGHIJKLMNOPQRSTUVWXYZ\"\n",
    "alpha_list = list(alpha)\n",
    "random.shuffle(alpha_list)\n",
    "\n",
    "alist = ''.join(alpha_list)\n",
    "print(alist)\n",
    "print(alpha)"
   ]
  },
  {
   "cell_type": "code",
   "execution_count": 19,
   "id": "4a8e1679",
   "metadata": {},
   "outputs": [
    {
     "name": "stdout",
     "output_type": "stream",
     "text": [
      "HFJMLWGOCXQBNAPDSKIRTVUEYZ\n",
      "ABCDEFGHIJKLMNOPQRSTUVWXYZ\n"
     ]
    }
   ],
   "source": [
    "# notice that random.sample creates a new list and does not change the original list\n",
    "\n",
    "import random\n",
    "\n",
    "alpha = \"ABCDEFGHIJKLMNOPQRSTUVWXYZ\"\n",
    "alpha_list = list(alpha)\n",
    "random_list = random.sample(alpha_list, len(alpha_list))\n",
    "\n",
    "rlist = ''.join(random_list)\n",
    "print(rlist)\n",
    "alist = ''.join(alpha_list)\n",
    "print(alist)"
   ]
  },
  {
   "cell_type": "markdown",
   "id": "0a9c447e",
   "metadata": {},
   "source": [
    "### Note that you can use the same code in \"main\" to go through the file and encode / decode the message that you used for the caesar shift."
   ]
  },
  {
   "cell_type": "markdown",
   "id": "c51f783a",
   "metadata": {},
   "source": [
    "### Reach out on Slack if you need help! \n",
    "\n",
    "Be sure to reach out on Slack if you need help."
   ]
  }
 ],
 "metadata": {
  "kernelspec": {
   "display_name": "Python 3 (ipykernel)",
   "language": "python",
   "name": "python3"
  },
  "language_info": {
   "codemirror_mode": {
    "name": "ipython",
    "version": 3
   },
   "file_extension": ".py",
   "mimetype": "text/x-python",
   "name": "python",
   "nbconvert_exporter": "python",
   "pygments_lexer": "ipython3",
   "version": "3.9.6"
  }
 },
 "nbformat": 4,
 "nbformat_minor": 5
}
