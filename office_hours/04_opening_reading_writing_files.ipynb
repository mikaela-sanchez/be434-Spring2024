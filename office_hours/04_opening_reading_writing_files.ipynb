{
 "cells": [
  {
   "cell_type": "markdown",
   "id": "6aa22b13",
   "metadata": {},
   "source": [
    "## Files"
   ]
  },
  {
   "cell_type": "markdown",
   "id": "6845a35a",
   "metadata": {},
   "source": [
    "### Reading Files"
   ]
  },
  {
   "cell_type": "code",
   "execution_count": 47,
   "id": "136e3488",
   "metadata": {},
   "outputs": [
    {
     "name": "stdout",
     "output_type": "stream",
     "text": [
      "<_io.TextIOWrapper name='bustle.txt' mode='r' encoding='UTF-8'>\n"
     ]
    }
   ],
   "source": [
    "f = open('bustle.txt', 'r')\n",
    "print(f)"
   ]
  },
  {
   "cell_type": "code",
   "execution_count": 48,
   "id": "37766ca7",
   "metadata": {},
   "outputs": [
    {
     "data": {
      "text/plain": [
       "'The bustle in a house\\n'"
      ]
     },
     "execution_count": 48,
     "metadata": {},
     "output_type": "execute_result"
    }
   ],
   "source": [
    "f.readline()"
   ]
  },
  {
   "cell_type": "code",
   "execution_count": 49,
   "id": "cbaa3c36",
   "metadata": {},
   "outputs": [
    {
     "data": {
      "text/plain": [
       "['The morning after death\\n',\n",
       " 'Is solemnest of industries\\n',\n",
       " 'Enacted upon earth,—\\n',\n",
       " '\\n',\n",
       " 'The sweeping up the heart,\\n',\n",
       " 'And putting love away\\n',\n",
       " 'We shall not want to use again\\n',\n",
       " 'Until eternity.\\n']"
      ]
     },
     "execution_count": 49,
     "metadata": {},
     "output_type": "execute_result"
    }
   ],
   "source": [
    "f.readlines()"
   ]
  },
  {
   "cell_type": "code",
   "execution_count": 51,
   "id": "d4b71184",
   "metadata": {},
   "outputs": [
    {
     "name": "stdout",
     "output_type": "stream",
     "text": [
      "The bustle in a house\n",
      "The morning after death\n",
      "Is solemnest of industries\n",
      "Enacted upon earth,—\n",
      "\n",
      "The sweeping up the heart,\n",
      "And putting love away\n",
      "We shall not want to use again\n",
      "Until eternity.\n"
     ]
    }
   ],
   "source": [
    "f = open('bustle.txt', 'r')\n",
    "for line in f.readlines():\n",
    "    print(line.strip())"
   ]
  },
  {
   "cell_type": "markdown",
   "id": "f50154d9",
   "metadata": {},
   "source": [
    "### Writing Files"
   ]
  },
  {
   "cell_type": "code",
   "execution_count": 52,
   "id": "0a968992",
   "metadata": {},
   "outputs": [
    {
     "name": "stdout",
     "output_type": "stream",
     "text": [
      "<_io.TextIOWrapper name='my_poem.txt' mode='w' encoding='UTF-8'>\n"
     ]
    }
   ],
   "source": [
    "f = open('my_poem.txt', 'w')\n",
    "print(f)"
   ]
  },
  {
   "cell_type": "code",
   "execution_count": 53,
   "id": "5494eb04",
   "metadata": {},
   "outputs": [
    {
     "data": {
      "text/plain": [
       "9"
      ]
     },
     "execution_count": 53,
     "metadata": {},
     "output_type": "execute_result"
    }
   ],
   "source": [
    "f.write('I am Sam\\n')\n",
    "f.write('Sam I am\\n')"
   ]
  },
  {
   "cell_type": "code",
   "execution_count": 54,
   "id": "b222ea93",
   "metadata": {},
   "outputs": [],
   "source": [
    "f.close()"
   ]
  },
  {
   "cell_type": "code",
   "execution_count": 55,
   "id": "3d77a43c",
   "metadata": {},
   "outputs": [
    {
     "name": "stdout",
     "output_type": "stream",
     "text": [
      "I am Sam\n",
      "Sam I am\n"
     ]
    }
   ],
   "source": [
    "with open('my_poem.txt', 'r') as f:\n",
    "    for line in f:\n",
    "        print(line.strip())\n",
    "f.close()"
   ]
  },
  {
   "cell_type": "markdown",
   "id": "8a54d22e",
   "metadata": {},
   "source": [
    "### Appending Files"
   ]
  },
  {
   "cell_type": "code",
   "execution_count": 56,
   "id": "42b670c3",
   "metadata": {},
   "outputs": [],
   "source": [
    "f = open('my_poem.txt', 'a')\n",
    "f.write('That Sam I am\\n')\n",
    "f.write('That Sam I am\\n')\n",
    "f.write('I do not like that Sam I am\\n')\n",
    "f.close()"
   ]
  },
  {
   "cell_type": "code",
   "execution_count": 57,
   "id": "f31e49af",
   "metadata": {},
   "outputs": [
    {
     "name": "stdout",
     "output_type": "stream",
     "text": [
      "I am Sam\n",
      "Sam I am\n",
      "That Sam I am\n",
      "That Sam I am\n",
      "I do not like that Sam I am\n"
     ]
    }
   ],
   "source": [
    "with open('my_poem.txt', 'r') as f:\n",
    "    for line in f:\n",
    "        print(line.strip())\n",
    "f.close()"
   ]
  },
  {
   "cell_type": "code",
   "execution_count": 58,
   "id": "623506cf",
   "metadata": {},
   "outputs": [
    {
     "name": "stdout",
     "output_type": "stream",
     "text": [
      "<_io.TextIOWrapper name='my_poem.txt' mode='a' encoding='UTF-8'>\n"
     ]
    }
   ],
   "source": [
    "with open('my_poem.txt', 'a') as f:\n",
    "    f.write('Do you like Green Eggs and Ham?\\n')\n",
    "    f.write('I do not like them Sam I am\\n')\n",
    "    \n",
    "print(f)"
   ]
  },
  {
   "cell_type": "code",
   "execution_count": 59,
   "id": "95ceddb9",
   "metadata": {},
   "outputs": [
    {
     "name": "stdout",
     "output_type": "stream",
     "text": [
      "I am Sam\n",
      "Sam I am\n",
      "That Sam I am\n",
      "That Sam I am\n",
      "I do not like that Sam I am\n",
      "Do you like Green Eggs and Ham?\n",
      "I do not like them Sam I am\n"
     ]
    }
   ],
   "source": [
    "with open('my_poem.txt', 'r') as f:\n",
    "    for line in f:\n",
    "        print(line.strip())"
   ]
  },
  {
   "cell_type": "code",
   "execution_count": 60,
   "id": "a8663ad4",
   "metadata": {},
   "outputs": [
    {
     "ename": "ValueError",
     "evalue": "I/O operation on closed file.",
     "output_type": "error",
     "traceback": [
      "\u001b[0;31m---------------------------------------------------------------------------\u001b[0m",
      "\u001b[0;31mValueError\u001b[0m                                Traceback (most recent call last)",
      "\u001b[0;32m/var/folders/8j/5x8dwvxx6tz3xtfcc7jhwt0w0000gn/T/ipykernel_68153/287969177.py\u001b[0m in \u001b[0;36m<module>\u001b[0;34m\u001b[0m\n\u001b[0;32m----> 1\u001b[0;31m \u001b[0mf\u001b[0m\u001b[0;34m.\u001b[0m\u001b[0mwrite\u001b[0m\u001b[0;34m(\u001b[0m\u001b[0;34m'Would you like them here or there?'\u001b[0m\u001b[0;34m)\u001b[0m\u001b[0;34m\u001b[0m\u001b[0;34m\u001b[0m\u001b[0m\n\u001b[0m",
      "\u001b[0;31mValueError\u001b[0m: I/O operation on closed file."
     ]
    }
   ],
   "source": [
    "f.write('Would you like them here or there?')"
   ]
  },
  {
   "cell_type": "code",
   "execution_count": 61,
   "id": "527c4fbd",
   "metadata": {},
   "outputs": [
    {
     "name": "stdout",
     "output_type": "stream",
     "text": [
      "01_strings.ipynb\t     04_opening_reading_writing_files.ipynb\n",
      "02_lists.ipynb\t\t     bustle.txt\n",
      "03_01_basic_datatypes.ipynb  fox.txt\n",
      "03_01_data_structures.ipynb  my_poem.txt\n",
      "03_02_dictionaries.ipynb\n"
     ]
    }
   ],
   "source": [
    "!ls"
   ]
  },
  {
   "cell_type": "code",
   "execution_count": 62,
   "id": "06f58194",
   "metadata": {},
   "outputs": [
    {
     "data": {
      "text/plain": [
       "False"
      ]
     },
     "execution_count": 62,
     "metadata": {},
     "output_type": "execute_result"
    }
   ],
   "source": [
    "import os\n",
    "os.path.isfile('blarg')"
   ]
  },
  {
   "cell_type": "code",
   "execution_count": 63,
   "id": "0306e50b",
   "metadata": {},
   "outputs": [
    {
     "data": {
      "text/plain": [
       "True"
      ]
     },
     "execution_count": 63,
     "metadata": {},
     "output_type": "execute_result"
    }
   ],
   "source": [
    "os.path.isfile('my_poem.txt')"
   ]
  },
  {
   "cell_type": "code",
   "execution_count": 64,
   "id": "be48b8d9",
   "metadata": {},
   "outputs": [
    {
     "data": {
      "text/plain": [
       "'/Users/bhurwitz/work/be434/be434-Spring2024/office_hours'"
      ]
     },
     "execution_count": 64,
     "metadata": {},
     "output_type": "execute_result"
    }
   ],
   "source": [
    "file = '/Users/bhurwitz/work/be434/be434-Spring2024/office_hours/my_poem.txt'\n",
    "os.path.dirname(file)"
   ]
  },
  {
   "cell_type": "code",
   "execution_count": 65,
   "id": "3292bc4f",
   "metadata": {},
   "outputs": [
    {
     "data": {
      "text/plain": [
       "'my_poem.txt'"
      ]
     },
     "execution_count": 65,
     "metadata": {},
     "output_type": "execute_result"
    }
   ],
   "source": [
    "os.path.basename(file)"
   ]
  },
  {
   "cell_type": "code",
   "execution_count": 66,
   "id": "a6840669",
   "metadata": {},
   "outputs": [
    {
     "name": "stdout",
     "output_type": "stream",
     "text": [
      "/Users/bhurwitz/work/be434/be434-Spring2024/office_hours/blarg.txt is not a file\n"
     ]
    }
   ],
   "source": [
    "file = '/Users/bhurwitz/work/be434/be434-Spring2024/office_hours/blarg.txt'\n",
    "if os.path.isfile(file):\n",
    "    fh = open(file)\n",
    "else:\n",
    "    print(f'{file} is not a file')"
   ]
  }
 ],
 "metadata": {
  "kernelspec": {
   "display_name": "Python 3 (ipykernel)",
   "language": "python",
   "name": "python3"
  },
  "language_info": {
   "codemirror_mode": {
    "name": "ipython",
    "version": 3
   },
   "file_extension": ".py",
   "mimetype": "text/x-python",
   "name": "python",
   "nbconvert_exporter": "python",
   "pygments_lexer": "ipython3",
   "version": "3.9.13"
  }
 },
 "nbformat": 4,
 "nbformat_minor": 5
}
