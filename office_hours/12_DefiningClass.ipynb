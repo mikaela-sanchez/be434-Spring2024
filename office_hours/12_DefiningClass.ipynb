{
 "cells": [
  {
   "cell_type": "markdown",
   "id": "a34c27ca",
   "metadata": {},
   "source": [
    "## Class"
   ]
  },
  {
   "cell_type": "markdown",
   "id": "9254338c",
   "metadata": {},
   "source": [
    "### What is a Class?\n",
    "\n",
    "In Python, a class is a blueprint for creating objects. It defines a set of attributes and methods that characterize any object created from that class. Think of a class as a template or a blueprint, and an object as an instance of that class.\n",
    "\n",
    "Here's a basic example of a class in Python:"
   ]
  },
  {
   "cell_type": "code",
   "execution_count": null,
   "id": "fd097c8c",
   "metadata": {},
   "outputs": [],
   "source": [
    "\n",
    "class Dog:\n",
    "    def __init__(self, name):\n",
    "        # instance attributes\n",
    "        self.name = name\n",
    "        self.legs = 4\n",
    "    \n",
    "    def speak(self):\n",
    "        print(self.name + ' says: Bark!')\n",
    "\n",
    "myDog = Dog('Rover')\n",
    "print(myDog.name)\n",
    "print(myDog.legs)"
   ]
  },
  {
   "cell_type": "code",
   "execution_count": null,
   "id": "3abfa4a3",
   "metadata": {},
   "outputs": [],
   "source": [
    "Dog.legs"
   ]
  },
  {
   "cell_type": "markdown",
   "id": "910762e2",
   "metadata": {},
   "source": [
    "### Static Attributes"
   ]
  },
  {
   "cell_type": "code",
   "execution_count": null,
   "id": "d99d3ce6",
   "metadata": {},
   "outputs": [],
   "source": [
    "# a class or \"blue print for Dog\n",
    "class Dog:\n",
    "    legs = 4\n",
    "    def __init__(self, name, color, breed):\n",
    "        self.name = name\n",
    "        self.color = color\n",
    "        self.breed = breed\n",
    "    \n",
    "    def speak(self):\n",
    "        print(self.name + ' says: Bark!')\n",
    "\n",
    "# an object (or instance) of the class Dog\n",
    "myDog = Dog('Rusty', 'red', 'poodle')\n",
    "print(myDog.name)\n",
    "print(myDog.legs)\n",
    "print(myDog.breed)"
   ]
  },
  {
   "cell_type": "code",
   "execution_count": null,
   "id": "10d39f55",
   "metadata": {},
   "outputs": [],
   "source": [
    "Dog.legs"
   ]
  },
  {
   "cell_type": "code",
   "execution_count": null,
   "id": "6c0e3e22",
   "metadata": {},
   "outputs": [],
   "source": [
    "# What if we had a 3-legged dog? Can we modify the number of legs in the class?\n",
    "Dog.legs = 3"
   ]
  },
  {
   "cell_type": "code",
   "execution_count": null,
   "id": "c6358449",
   "metadata": {},
   "outputs": [],
   "source": [
    "# Oh no, we get a type error.\n",
    "myDog = Dog('Rover')\n",
    "print(myDog.name)\n",
    "print(myDog.legs)"
   ]
  },
  {
   "cell_type": "code",
   "execution_count": null,
   "id": "f242ba14",
   "metadata": {},
   "outputs": [],
   "source": [
    "# To deal with this, we need to create a function to get the number of legs for the dog\n",
    "# The underscore tells us that we can change the variable in the class, but it will default to 4.\n",
    "class Dog:\n",
    "    _legs = 4\n",
    "    def __init__(self, name):\n",
    "        self.name = name\n",
    "        \n",
    "    def getLegs(self):\n",
    "        return self._legs\n",
    "    \n",
    "    def speak(self):\n",
    "        print(self.name + ' says: Bark!')\n",
    "\n",
    "myDog = Dog('Rover')\n",
    "print(myDog.name)\n",
    "print(myDog.getLegs())"
   ]
  },
  {
   "cell_type": "code",
   "execution_count": null,
   "id": "b914c567",
   "metadata": {},
   "outputs": [],
   "source": [
    "# notice that we can change the # of legs in the instance of the class, but it doesn't change the default value for the class\n",
    "myDog = Dog('Rover')\n",
    "myDog._legs = 3\n",
    "print(myDog.name)\n",
    "print(myDog.getLegs())\n",
    "print(Dog._legs)"
   ]
  },
  {
   "cell_type": "markdown",
   "id": "d8106fbb",
   "metadata": {},
   "source": [
    "Next, we can create a class that extends a class. The first class is called the parent class, and a child class can inherit the attributes of the class but then extend it.\n",
    "\n",
    "Let's look at an example:"
   ]
  },
  {
   "cell_type": "code",
   "execution_count": null,
   "id": "e7eb5e63",
   "metadata": {},
   "outputs": [],
   "source": [
    "# This is the parent class\n",
    "class Dog:\n",
    "    _legs = 4\n",
    "    def __init__(self, name):\n",
    "        self.name = name\n",
    "\n",
    "    def speak(self):\n",
    "        print(self.name + ' says: Bark!')\n",
    "    \n",
    "    def getLegs(self):\n",
    "        return self._legs\n",
    "\n",
    "# This is the child class\n",
    "class Chihuahua(Dog):\n",
    "    # here we can refine what the child class does\n",
    "    def speak(self):\n",
    "        print(f'{self.name} says: Yap yap yap!')\n",
    "    \n",
    "    # This is something only the child class can do\n",
    "    def wagTail(self):\n",
    "        print('Vigorous wagging!')"
   ]
  },
  {
   "cell_type": "code",
   "execution_count": null,
   "id": "4f80924c",
   "metadata": {},
   "outputs": [],
   "source": [
    "dog = Dog('Rusty')\n",
    "dog.speak()"
   ]
  },
  {
   "cell_type": "code",
   "execution_count": null,
   "id": "63523f23",
   "metadata": {},
   "outputs": [],
   "source": [
    "dog = Chihuahua('Roxy')\n",
    "dog.speak()\n",
    "dog.wagTail()"
   ]
  },
  {
   "cell_type": "markdown",
   "id": "057d8674",
   "metadata": {},
   "source": [
    "### Homework help!\n",
    "\n",
    "This week, we are going to learn a little more about regular expressions. In particular, we will be writing a program that functions like the Unix program called \"grep\". This program searches for a pattern in a file. And has the option to search case-insensitive."
   ]
  },
  {
   "cell_type": "code",
   "execution_count": null,
   "id": "1b8b18b0",
   "metadata": {},
   "outputs": [],
   "source": [
    "text = '''\n",
    "Beautiful is better than ugly.\n",
    "Explicit is better than implicit.\n",
    "Simple is better than complex.\n",
    "Complex is better than complicated.\n",
    "Flat is better than nested.\n",
    "Sparse is better than dense.\n",
    "Readability counts.\n",
    "Special cases aren't special enough to break the rules.\n",
    "Although practicality beats purity.\n",
    "Errors should never pass silently.\n",
    "Unless explicitly silenced.\n",
    "In the face of ambiguity, refuse the temptation to guess.\n",
    "There should be one-- and preferably only one --obvious way to do it.\n",
    "Now is better than never.\n",
    "Although never is often better than *right* now.\n",
    "If the implementation is hard to explain, it's a bad idea.\n",
    "If the implementation is easy to explain, it may be a good idea.\n",
    "Namespaces are one honking great idea -- let's do more of those!\n",
    "'''"
   ]
  },
  {
   "cell_type": "markdown",
   "id": "798ccca7",
   "metadata": {},
   "source": [
    "Let's search for the word \"better\" in the text above"
   ]
  },
  {
   "cell_type": "code",
   "execution_count": null,
   "id": "46675351",
   "metadata": {},
   "outputs": [],
   "source": [
    "# Version 1\n",
    "\n",
    "import re\n",
    "\n",
    "lines = text.split('\\n')\n",
    "pattern = 'better'\n",
    "insensitive = 1\n",
    "\n",
    "for line in lines:\n",
    "   if re.search(pattern, line,\n",
    "                re.IGNORECASE if insensitive else 0):\n",
    "       print(line)"
   ]
  },
  {
   "cell_type": "code",
   "execution_count": null,
   "id": "458a7d1d",
   "metadata": {},
   "outputs": [],
   "source": [
    "# Version 2\n",
    "\n",
    "import re\n",
    "\n",
    "lines = text.split('\\n')\n",
    "find_pattern = 'beautiful'\n",
    "insensitive = 1\n",
    "\n",
    "pattern = re.compile(find_pattern,\n",
    "                         re.IGNORECASE if insensitive else 0)\n",
    "\n",
    "for line in lines:\n",
    "    if pattern.search(line):\n",
    "        print(line)"
   ]
  }
 ],
 "metadata": {
  "kernelspec": {
   "display_name": "Python 3 (ipykernel)",
   "language": "python",
   "name": "python3"
  },
  "language_info": {
   "codemirror_mode": {
    "name": "ipython",
    "version": 3
   },
   "file_extension": ".py",
   "mimetype": "text/x-python",
   "name": "python",
   "nbconvert_exporter": "python",
   "pygments_lexer": "ipython3",
   "version": "3.9.6"
  }
 },
 "nbformat": 4,
 "nbformat_minor": 5
}
