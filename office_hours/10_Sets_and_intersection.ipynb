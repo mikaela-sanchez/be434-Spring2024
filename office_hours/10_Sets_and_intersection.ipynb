{
 "cells": [
  {
   "cell_type": "markdown",
   "id": "9ace3b36",
   "metadata": {},
   "source": [
    "## Sets"
   ]
  },
  {
   "cell_type": "code",
   "execution_count": 31,
   "id": "d2f6b728",
   "metadata": {},
   "outputs": [
    {
     "data": {
      "text/plain": [
       "{'a', 'b', 'c'}"
      ]
     },
     "execution_count": 31,
     "metadata": {},
     "output_type": "execute_result"
    }
   ],
   "source": [
    "# You can define a set with curly brackets.\n",
    "# A set can have any number of items and they may be of different types (integer, float, tuple, string).\n",
    "mySet = {'a', 'b', 'c'}\n",
    "mySet"
   ]
  },
  {
   "cell_type": "code",
   "execution_count": 32,
   "id": "8aefd2cd",
   "metadata": {},
   "outputs": [
    {
     "data": {
      "text/plain": [
       "{'a', 'b', 'c'}"
      ]
     },
     "execution_count": 32,
     "metadata": {},
     "output_type": "execute_result"
    }
   ],
   "source": [
    "# You can also define a set with the set function:\n",
    "# sample_set = set(<iterable>)\n",
    "# <iterable> can be any iterable object such as a list, string, or tuple\n",
    "# Here we can use a tuple.\n",
    "# Python tuples are a type of data structure that is very similar to lists. \n",
    "# The main difference between the two is that tuples are immutable\n",
    "# Meaning that cannot be changed once they are created. This makes them ideal for storing data that should not be modified.\n",
    "# We can use set to get a unique list\n",
    "mySet = set(('c', 'b', 'a', 'c', 'b'))\n",
    "mySet"
   ]
  },
  {
   "cell_type": "code",
   "execution_count": 33,
   "id": "69200543",
   "metadata": {},
   "outputs": [
    {
     "data": {
      "text/plain": [
       "['c', 'b', 'a']"
      ]
     },
     "execution_count": 33,
     "metadata": {},
     "output_type": "execute_result"
    }
   ],
   "source": [
    "# if you want to make a list unique,\n",
    "# you can convert the list to a set, and then back into a list\n",
    "myList = ['a', 'b', 'b', 'c', 'c']\n",
    "myList = list(set(myList))\n",
    "myList"
   ]
  },
  {
   "cell_type": "code",
   "execution_count": 34,
   "id": "d72cab4d",
   "metadata": {},
   "outputs": [
    {
     "ename": "TypeError",
     "evalue": "'set' object is not subscriptable",
     "output_type": "error",
     "traceback": [
      "\u001b[0;31m---------------------------------------------------------------------------\u001b[0m",
      "\u001b[0;31mTypeError\u001b[0m                                 Traceback (most recent call last)",
      "Cell \u001b[0;32mIn [34], line 2\u001b[0m\n\u001b[1;32m      1\u001b[0m \u001b[38;5;66;03m# You cannot get an item from a set in the same way you can in a list\u001b[39;00m\n\u001b[0;32m----> 2\u001b[0m \u001b[43mmySet\u001b[49m\u001b[43m[\u001b[49m\u001b[38;5;241;43m0\u001b[39;49m\u001b[43m]\u001b[49m\n",
      "\u001b[0;31mTypeError\u001b[0m: 'set' object is not subscriptable"
     ]
    }
   ],
   "source": [
    "# You cannot get an item from a set in the same way you can in a list\n",
    "mySet[0]"
   ]
  },
  {
   "cell_type": "code",
   "execution_count": 35,
   "id": "80dc46d0",
   "metadata": {},
   "outputs": [
    {
     "data": {
      "text/plain": [
       "{'a', 'b', 'c', 'd'}"
      ]
     },
     "execution_count": 35,
     "metadata": {},
     "output_type": "execute_result"
    }
   ],
   "source": [
    "# But you can add an item to a set\n",
    "mySet.add('d')\n",
    "mySet"
   ]
  },
  {
   "cell_type": "code",
   "execution_count": 36,
   "id": "2a98889e",
   "metadata": {},
   "outputs": [
    {
     "data": {
      "text/plain": [
       "True"
      ]
     },
     "execution_count": 36,
     "metadata": {},
     "output_type": "execute_result"
    }
   ],
   "source": [
    "# Or check if an item IS in a set\n",
    "'a' in mySet"
   ]
  },
  {
   "cell_type": "code",
   "execution_count": 37,
   "id": "a921cee9",
   "metadata": {},
   "outputs": [
    {
     "data": {
      "text/plain": [
       "False"
      ]
     },
     "execution_count": 37,
     "metadata": {},
     "output_type": "execute_result"
    }
   ],
   "source": [
    "# Or is an item is NOT in a set\n",
    "'z' in mySet"
   ]
  },
  {
   "cell_type": "code",
   "execution_count": 38,
   "id": "ab1b620c",
   "metadata": {},
   "outputs": [
    {
     "data": {
      "text/plain": [
       "4"
      ]
     },
     "execution_count": 38,
     "metadata": {},
     "output_type": "execute_result"
    }
   ],
   "source": [
    "# You can also get the len of the set\n",
    "len(mySet)"
   ]
  },
  {
   "cell_type": "code",
   "execution_count": 39,
   "id": "d3623b1f",
   "metadata": {},
   "outputs": [
    {
     "data": {
      "text/plain": [
       "{'a', 'b', 'c', 'd'}"
      ]
     },
     "execution_count": 39,
     "metadata": {},
     "output_type": "execute_result"
    }
   ],
   "source": [
    "mySet"
   ]
  },
  {
   "cell_type": "code",
   "execution_count": 40,
   "id": "e6e31f21",
   "metadata": {},
   "outputs": [
    {
     "name": "stdout",
     "output_type": "stream",
     "text": [
      "c\n",
      "d\n",
      "b\n",
      "a\n"
     ]
    }
   ],
   "source": [
    "# You can also go through the set one item at a time with while\n",
    "while len(mySet):\n",
    "    print(mySet.pop())"
   ]
  },
  {
   "cell_type": "code",
   "execution_count": 41,
   "id": "feb2c369",
   "metadata": {},
   "outputs": [
    {
     "data": {
      "text/plain": [
       "set()"
      ]
     },
     "execution_count": 41,
     "metadata": {},
     "output_type": "execute_result"
    }
   ],
   "source": [
    "# Where pop removes each item until you are left with an empty set\n",
    "mySet"
   ]
  },
  {
   "cell_type": "code",
   "execution_count": 42,
   "id": "f46ecc23",
   "metadata": {},
   "outputs": [],
   "source": [
    "mySet = {'a', 'b', 'c'}"
   ]
  },
  {
   "cell_type": "code",
   "execution_count": 43,
   "id": "db7970a1",
   "metadata": {},
   "outputs": [],
   "source": [
    "# You can also \"discard\" and item from a set\n",
    "mySet.discard('a')"
   ]
  },
  {
   "cell_type": "code",
   "execution_count": 44,
   "id": "8831c30e",
   "metadata": {},
   "outputs": [
    {
     "data": {
      "text/plain": [
       "{'b', 'c'}"
      ]
     },
     "execution_count": 44,
     "metadata": {},
     "output_type": "execute_result"
    }
   ],
   "source": [
    "mySet"
   ]
  },
  {
   "cell_type": "markdown",
   "id": "f39e6aee",
   "metadata": {},
   "source": [
    "## Intersections"
   ]
  },
  {
   "cell_type": "code",
   "execution_count": 45,
   "id": "71ce6903",
   "metadata": {},
   "outputs": [
    {
     "name": "stdout",
     "output_type": "stream",
     "text": [
      "{'c', 'b', 'a'}\n",
      "{'d', 'a', 'b', 'e'}\n"
     ]
    }
   ],
   "source": [
    "# notice that sets are not always in the order you put them in...\n",
    "# Set - is a collection in which elements have no order. In other words, the order is not guaranteed.\n",
    "set1 = {'a', 'b', 'c'}\n",
    "set2 = {'a', 'b', 'd', 'e'}\n",
    "print(set1)\n",
    "print(set2)"
   ]
  },
  {
   "cell_type": "code",
   "execution_count": 46,
   "id": "98151b6a",
   "metadata": {},
   "outputs": [
    {
     "name": "stdout",
     "output_type": "stream",
     "text": [
      "b\n",
      "a\n"
     ]
    }
   ],
   "source": [
    "# we can use the intersection function to find the items that are in common between a set\n",
    "print('\\n'.join(set1.intersection(set2)))"
   ]
  },
  {
   "cell_type": "code",
   "execution_count": null,
   "id": "2841cbc2",
   "metadata": {},
   "outputs": [],
   "source": [
    "## Homework help: common.py\n",
    "# Step 1: get all of the words from your file"
   ]
  },
  {
   "cell_type": "code",
   "execution_count": null,
   "id": "42b2f324",
   "metadata": {},
   "outputs": [],
   "source": [
    "# You can do this with a function, so you don't have to repeat the code in main.\n",
    "def get_words(fh):\n",
    "    \"\"\" Get all the words from a filehandle \"\"\"\n",
    "\n",
    "    words = set()\n",
    "    for line in fh:\n",
    "        for word in line.rstrip().split():\n",
    "            words.add(word)\n",
    "\n",
    "    return words\n"
   ]
  },
  {
   "cell_type": "code",
   "execution_count": null,
   "id": "1f64ecd4",
   "metadata": {},
   "outputs": [],
   "source": [
    "# Step 2:\n",
    "# Try using intersection to find the words in common between two files\n",
    "common = set1.intersection(set2)\n",
    "print(common)"
   ]
  }
 ],
 "metadata": {
  "kernelspec": {
   "display_name": "Python 3 (ipykernel)",
   "language": "python",
   "name": "python3"
  },
  "language_info": {
   "codemirror_mode": {
    "name": "ipython",
    "version": 3
   },
   "file_extension": ".py",
   "mimetype": "text/x-python",
   "name": "python",
   "nbconvert_exporter": "python",
   "pygments_lexer": "ipython3",
   "version": "3.9.6"
  }
 },
 "nbformat": 4,
 "nbformat_minor": 5
}
