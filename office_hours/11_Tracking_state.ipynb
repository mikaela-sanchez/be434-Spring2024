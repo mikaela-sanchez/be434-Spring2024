{
 "cells": [
  {
   "cell_type": "markdown",
   "id": "b693252d",
   "metadata": {},
   "source": [
    "## How to keep track of the \"state\" of something"
   ]
  },
  {
   "cell_type": "markdown",
   "id": "7f36bfd4",
   "metadata": {},
   "source": [
    "### Homework help\n",
    "\n",
    "Write a Python program called `run.py` that will compress strings of DNA using [run-length encoding](RLE) \n",
    "where runs of the same base (homopolymers) are represented by the base followed by a numeral representing the number of repetitions.\n",
    "The program should accept a single input that is either a sequence to encode or a file containing sequences on each line.\n",
    "\n",
    "```\n",
    "$ cat inputs/sample1.txt\n",
    "ACCGGGTTTT\n",
    "```\n",
    "\n",
    "This is the expected output with this file as the input:\n",
    "\n",
    "```\n",
    "$ ./run.py inputs/sample1.txt \n",
    "AC2G3T4\n",
    "```"
   ]
  },
  {
   "cell_type": "markdown",
   "id": "5eb0b9e0",
   "metadata": {},
   "source": [
    "### Let's process some Python Poetry!"
   ]
  },
  {
   "cell_type": "code",
   "execution_count": 34,
   "id": "97284f20",
   "metadata": {},
   "outputs": [],
   "source": [
    "text = '''\n",
    "Beautiful is better than ugly.\n",
    "Explicit is better than implicit.\n",
    "Simple is better than complex.\n",
    "Complex is better than complicated.\n",
    "Flat is better than nested.\n",
    "Sparse is better than dense.\n",
    "Readability counts.\n",
    "Special cases aren't special enough to break the rules.\n",
    "Although practicality beats purity.\n",
    "Errors should never pass silently.\n",
    "Unless explicitly silenced.\n",
    "In the face of ambiguity, refuse the temptation to guess.\n",
    "There should be one-- and preferably only one --obvious way to do it.\n",
    "Now is better than never.\n",
    "Although never is often better than *right* now.\n",
    "If the implementation is hard to explain, it's a bad idea.\n",
    "If the implementation is easy to explain, it may be a good idea.\n",
    "Namespaces are one honking great idea -- let's do more of those!\n",
    "'''\n"
   ]
  },
  {
   "cell_type": "code",
   "execution_count": 35,
   "id": "bd899058",
   "metadata": {},
   "outputs": [],
   "source": [
    "def lowercase(text):\n",
    "    return text.lower()\n",
    "\n",
    "def removePunctuation(text):\n",
    "    punctuations = ['.', '-', ',', '*']\n",
    "    for punctuation in punctuations:\n",
    "        text = text.replace(punctuation, '')\n",
    "    return text\n",
    "\n",
    "def removeNewlines(text):\n",
    "    text = text.replace('\\n', ' ')\n",
    "    return text\n",
    "\n",
    "def removeSpaces(text):\n",
    "    text = text.replace(' ', '')\n",
    "    return text\n",
    "\n",
    "def removeShortWords(text):\n",
    "    return ' '.join([word for word in text.split() if len(word) > 3])\n",
    "\n",
    "def removeLongWords(text):\n",
    "    return ' '.join([word for word in text.split() if len(word) < 6])"
   ]
  },
  {
   "cell_type": "code",
   "execution_count": 36,
   "id": "4e6e3111",
   "metadata": {},
   "outputs": [
    {
     "name": "stdout",
     "output_type": "stream",
     "text": [
      "is than ugly is than is than is than flat is than is than dense cases to break the rules beats never pass in the face of the to guess there be one and only one way to do it now is than never never is often than right now if the is hard to it's a bad idea if the is easy to it may be a good idea are one great idea let's do more of\n"
     ]
    }
   ],
   "source": [
    "processingFunctions = [lowercase, removePunctuation, removeNewlines, removeLongWords]\n",
    "\n",
    "for func in processingFunctions:\n",
    "    text = func(text)\n",
    "\n",
    "print(text)"
   ]
  },
  {
   "cell_type": "code",
   "execution_count": 37,
   "id": "ad22d995",
   "metadata": {},
   "outputs": [],
   "source": [
    "words = sorted(text.split())"
   ]
  },
  {
   "cell_type": "code",
   "execution_count": 38,
   "id": "3f78fbfd",
   "metadata": {},
   "outputs": [
    {
     "name": "stdout",
     "output_type": "stream",
     "text": [
      "['a', 'a', 'and', 'are', 'bad', 'be', 'be', 'beats', 'break', 'cases', 'dense', 'do', 'do', 'easy', 'face', 'flat', 'good', 'great', 'guess', 'hard', 'idea', 'idea', 'idea', 'if', 'if', 'in', 'is', 'is', 'is', 'is', 'is', 'is', 'is', 'is', 'is', 'is', 'it', 'it', \"it's\", \"let's\", 'may', 'more', 'never', 'never', 'never', 'now', 'now', 'of', 'of', 'often', 'one', 'one', 'one', 'only', 'pass', 'right', 'rules', 'than', 'than', 'than', 'than', 'than', 'than', 'than', 'than', 'the', 'the', 'the', 'the', 'the', 'there', 'to', 'to', 'to', 'to', 'to', 'ugly', 'way']\n"
     ]
    }
   ],
   "source": [
    "# Let's try this by writing a function that can count how many times we see duplicate words in our sorted text from above.\n",
    "print(words)"
   ]
  },
  {
   "cell_type": "markdown",
   "id": "bc4213bc",
   "metadata": {},
   "source": [
    "### Tracking state\n",
    "\n",
    "1. Create a data structure to hold the words and the count. I am going to create a list of lists.\n",
    "   For example, [('a', 2), ('and', 1)]. I could use a dictionary too, but why wouldn't that work in this case?\n",
    "2. Create a variable to count how many times you see each of the words. We will reset this count each time we get to a new word.\n",
    "3. Keep track of the word you are currently on. We will update this when we get to a new word. "
   ]
  },
  {
   "cell_type": "code",
   "execution_count": 39,
   "id": "604d7922",
   "metadata": {},
   "outputs": [],
   "source": [
    "def count_repeated_words(words) -> list:\n",
    "    \"\"\" Counting Repeated Words \"\"\"\n",
    "\n",
    "    counts = []\n",
    "    count = 0\n",
    "    prev = ''\n",
    "    for word in words:\n",
    "        # We are at the start\n",
    "        if prev == '':\n",
    "            prev = word\n",
    "            count = 1\n",
    "        # This word is the same as before\n",
    "        elif word == prev:\n",
    "            count += 1\n",
    "        # This is a new word, so record the count\n",
    "        # of the previous word and reset the counter\n",
    "        else:\n",
    "            counts.append((prev, count))\n",
    "            count = 1\n",
    "            prev = word\n",
    "\n",
    "    # get the last word after we fell out of the loop\n",
    "    counts.append((prev, count))\n",
    "\n",
    "    return counts\n",
    "\n",
    "\n"
   ]
  },
  {
   "cell_type": "code",
   "execution_count": 40,
   "id": "48da2cf7",
   "metadata": {},
   "outputs": [
    {
     "name": "stdout",
     "output_type": "stream",
     "text": [
      "[('a', 2), ('and', 1), ('are', 1), ('bad', 1), ('be', 2), ('beats', 1), ('break', 1), ('cases', 1), ('dense', 1), ('do', 2), ('easy', 1), ('face', 1), ('flat', 1), ('good', 1), ('great', 1), ('guess', 1), ('hard', 1), ('idea', 3), ('if', 2), ('in', 1), ('is', 10), ('it', 2), (\"it's\", 1), (\"let's\", 1), ('may', 1), ('more', 1), ('never', 3), ('now', 2), ('of', 2), ('often', 1), ('one', 3), ('only', 1), ('pass', 1), ('right', 1), ('rules', 1), ('than', 8), ('the', 5), ('there', 1), ('to', 5), ('ugly', 1), ('way', 1)]\n"
     ]
    }
   ],
   "source": [
    "words_repeated = count_repeated_words(words)\n",
    "print(words_repeated)"
   ]
  }
 ],
 "metadata": {
  "kernelspec": {
   "display_name": "Python 3 (ipykernel)",
   "language": "python",
   "name": "python3"
  },
  "language_info": {
   "codemirror_mode": {
    "name": "ipython",
    "version": 3
   },
   "file_extension": ".py",
   "mimetype": "text/x-python",
   "name": "python",
   "nbconvert_exporter": "python",
   "pygments_lexer": "ipython3",
   "version": "3.9.6"
  }
 },
 "nbformat": 4,
 "nbformat_minor": 5
}
